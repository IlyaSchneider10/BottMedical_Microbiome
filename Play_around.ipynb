{
 "cells": [
  {
   "cell_type": "code",
   "execution_count": 1,
   "metadata": {},
   "outputs": [],
   "source": [
    "import mesa\n",
    "import math\n",
    "import numpy as np\n",
    "import pandas as pd\n",
    "import matplotlib.pyplot as plt\n",
    "import itertools\n",
    "import time\n",
    "import os\n",
    "\n",
    "from Model_Ilya_Play_Area_Convolution_Coexistence import *"
   ]
  },
  {
   "cell_type": "markdown",
   "metadata": {},
   "source": [
    "### Batch Simulations"
   ]
  },
  {
   "cell_type": "markdown",
   "metadata": {},
   "source": [
    "#### Mesa batch run"
   ]
  },
  {
   "cell_type": "code",
   "execution_count": 2,
   "metadata": {},
   "outputs": [
    {
     "name": "stderr",
     "output_type": "stream",
     "text": [
      "  0%|          | 0/1350 [00:00<?, ?it/s]"
     ]
    },
    {
     "name": "stderr",
     "output_type": "stream",
     "text": [
      "  8%|▊         | 113/1350 [8:22:21<91:39:19, 266.74s/it] \n"
     ]
    },
    {
     "ename": "KeyboardInterrupt",
     "evalue": "",
     "output_type": "error",
     "traceback": [
      "\u001b[1;31m---------------------------------------------------------------------------\u001b[0m",
      "\u001b[1;31mKeyboardInterrupt\u001b[0m                         Traceback (most recent call last)",
      "Cell \u001b[1;32mIn[2], line 3\u001b[0m\n\u001b[0;32m      1\u001b[0m params \u001b[39m=\u001b[39m {\u001b[39m\"\u001b[39m\u001b[39mnum_type_a_1\u001b[39m\u001b[39m\"\u001b[39m: (\u001b[39m10\u001b[39m, \u001b[39m25\u001b[39m, \u001b[39m50\u001b[39m), \u001b[39m\"\u001b[39m\u001b[39mnum_type_a_2\u001b[39m\u001b[39m\"\u001b[39m: (\u001b[39m10\u001b[39m, \u001b[39m25\u001b[39m, \u001b[39m50\u001b[39m), \u001b[39m\"\u001b[39m\u001b[39mis_torus\u001b[39m\u001b[39m\"\u001b[39m: \u001b[39mFalse\u001b[39;00m, \u001b[39m\"\u001b[39m\u001b[39mgrid_height\u001b[39m\u001b[39m\"\u001b[39m: \u001b[39m25\u001b[39m, \u001b[39m\"\u001b[39m\u001b[39mgrid_width\u001b[39m\u001b[39m\"\u001b[39m: \u001b[39m25\u001b[39m, \u001b[39m\"\u001b[39m\u001b[39mimmediate_killing\u001b[39m\u001b[39m\"\u001b[39m: \u001b[39mFalse\u001b[39;00m, \u001b[39m\"\u001b[39m\u001b[39maggressiveness\u001b[39m\u001b[39m\"\u001b[39m: (\u001b[39m0.025\u001b[39m, \u001b[39m0.05\u001b[39m, \u001b[39m0.1\u001b[39m, \u001b[39m0.25\u001b[39m, \u001b[39m0.5\u001b[39m), \u001b[39m\"\u001b[39m\u001b[39mavrg_viability_time_type_a\u001b[39m\u001b[39m\"\u001b[39m: (\u001b[39m30\u001b[39m, \u001b[39m40\u001b[39m, \u001b[39m50\u001b[39m) }\n\u001b[1;32m----> 3\u001b[0m results \u001b[39m=\u001b[39m mesa\u001b[39m.\u001b[39;49mbatch_run(\n\u001b[0;32m      4\u001b[0m     Microbiome,\n\u001b[0;32m      5\u001b[0m     parameters \u001b[39m=\u001b[39;49m params,\n\u001b[0;32m      6\u001b[0m     iterations \u001b[39m=\u001b[39;49m \u001b[39m10\u001b[39;49m,\n\u001b[0;32m      7\u001b[0m     max_steps \u001b[39m=\u001b[39;49m \u001b[39m2000\u001b[39;49m,\n\u001b[0;32m      8\u001b[0m     number_processes \u001b[39m=\u001b[39;49m \u001b[39m1\u001b[39;49m,\n\u001b[0;32m      9\u001b[0m     data_collection_period \u001b[39m=\u001b[39;49m \u001b[39m1\u001b[39;49m,\n\u001b[0;32m     10\u001b[0m     display_progress \u001b[39m=\u001b[39;49m \u001b[39mTrue\u001b[39;49;00m,\n\u001b[0;32m     11\u001b[0m )\n",
      "File \u001b[1;32mc:\\Users\\schni\\OneDrive\\Documents\\Switzerland\\Bottmedical\\.venv\\lib\\site-packages\\mesa\\batchrunner.py:86\u001b[0m, in \u001b[0;36mbatch_run\u001b[1;34m(model_cls, parameters, number_processes, iterations, data_collection_period, max_steps, display_progress)\u001b[0m\n\u001b[0;32m     84\u001b[0m \u001b[39mif\u001b[39;00m number_processes \u001b[39m==\u001b[39m \u001b[39m1\u001b[39m:\n\u001b[0;32m     85\u001b[0m     \u001b[39mfor\u001b[39;00m run \u001b[39min\u001b[39;00m runs_list:\n\u001b[1;32m---> 86\u001b[0m         data \u001b[39m=\u001b[39m process_func(run)\n\u001b[0;32m     87\u001b[0m         results\u001b[39m.\u001b[39mextend(data)\n\u001b[0;32m     88\u001b[0m         pbar\u001b[39m.\u001b[39mupdate()\n",
      "File \u001b[1;32mc:\\Users\\schni\\OneDrive\\Documents\\Switzerland\\Bottmedical\\.venv\\lib\\site-packages\\mesa\\batchrunner.py:156\u001b[0m, in \u001b[0;36m_model_run_func\u001b[1;34m(model_cls, run, max_steps, data_collection_period)\u001b[0m\n\u001b[0;32m    154\u001b[0m model \u001b[39m=\u001b[39m model_cls(\u001b[39m*\u001b[39m\u001b[39m*\u001b[39mkwargs)\n\u001b[0;32m    155\u001b[0m \u001b[39mwhile\u001b[39;00m model\u001b[39m.\u001b[39mrunning \u001b[39mand\u001b[39;00m model\u001b[39m.\u001b[39mschedule\u001b[39m.\u001b[39msteps \u001b[39m<\u001b[39m\u001b[39m=\u001b[39m max_steps:\n\u001b[1;32m--> 156\u001b[0m     model\u001b[39m.\u001b[39;49mstep()\n\u001b[0;32m    158\u001b[0m data \u001b[39m=\u001b[39m []\n\u001b[0;32m    160\u001b[0m steps \u001b[39m=\u001b[39m \u001b[39mlist\u001b[39m(\u001b[39mrange\u001b[39m(\u001b[39m0\u001b[39m, model\u001b[39m.\u001b[39mschedule\u001b[39m.\u001b[39msteps, data_collection_period))\n",
      "File \u001b[1;32mc:\\Users\\schni\\OneDrive\\Documents\\Switzerland\\Bottmedical\\Model_Ilya\\BottMedical_Microbiome\\Model_Ilya_Play_Area_Convolution.py:659\u001b[0m, in \u001b[0;36mMicrobiome.step\u001b[1;34m(self)\u001b[0m\n\u001b[0;32m    657\u001b[0m \u001b[39m# run agents\u001b[39;00m\n\u001b[0;32m    658\u001b[0m \u001b[39mself\u001b[39m\u001b[39m.\u001b[39ma1_free_space, \u001b[39mself\u001b[39m\u001b[39m.\u001b[39ma2_free_space \u001b[39m=\u001b[39m \u001b[39mself\u001b[39m\u001b[39m.\u001b[39mfind_free_space(\u001b[39mmax\u001b[39m(\u001b[39mself\u001b[39m\u001b[39m.\u001b[39mgrid_width, \u001b[39mself\u001b[39m\u001b[39m.\u001b[39mgrid_height))\n\u001b[1;32m--> 659\u001b[0m \u001b[39mself\u001b[39;49m\u001b[39m.\u001b[39;49mdatacollector\u001b[39m.\u001b[39;49mcollect(\u001b[39mself\u001b[39;49m)\n\u001b[0;32m    660\u001b[0m \u001b[39mself\u001b[39m\u001b[39m.\u001b[39mschedule\u001b[39m.\u001b[39mstep()\n",
      "File \u001b[1;32mc:\\Users\\schni\\OneDrive\\Documents\\Switzerland\\Bottmedical\\.venv\\lib\\site-packages\\mesa\\datacollection.py:172\u001b[0m, in \u001b[0;36mDataCollector.collect\u001b[1;34m(self, model)\u001b[0m\n\u001b[0;32m    169\u001b[0m \u001b[39mfor\u001b[39;00m var, reporter \u001b[39min\u001b[39;00m \u001b[39mself\u001b[39m\u001b[39m.\u001b[39mmodel_reporters\u001b[39m.\u001b[39mitems():\n\u001b[0;32m    170\u001b[0m     \u001b[39m# Check if Lambda operator\u001b[39;00m\n\u001b[0;32m    171\u001b[0m     \u001b[39mif\u001b[39;00m \u001b[39misinstance\u001b[39m(reporter, types\u001b[39m.\u001b[39mLambdaType):\n\u001b[1;32m--> 172\u001b[0m         \u001b[39mself\u001b[39m\u001b[39m.\u001b[39mmodel_vars[var]\u001b[39m.\u001b[39mappend(reporter(model))\n\u001b[0;32m    173\u001b[0m     \u001b[39m# Check if model attribute\u001b[39;00m\n\u001b[0;32m    174\u001b[0m     \u001b[39melif\u001b[39;00m \u001b[39misinstance\u001b[39m(reporter, \u001b[39mstr\u001b[39m):\n",
      "File \u001b[1;32mc:\\Users\\schni\\OneDrive\\Documents\\Switzerland\\Bottmedical\\Model_Ilya\\BottMedical_Microbiome\\Model_Ilya_Play_Area_Convolution.py:581\u001b[0m, in \u001b[0;36mMicrobiome.__init__.<locals>.<lambda>\u001b[1;34m(m)\u001b[0m\n\u001b[0;32m    573\u001b[0m     \u001b[39mself\u001b[39m\u001b[39m.\u001b[39ma1_initial_aggressiveness\u001b[39m.\u001b[39mappend(a\u001b[39m.\u001b[39maggressiveness)\n\u001b[0;32m    575\u001b[0m \u001b[39mself\u001b[39m\u001b[39m.\u001b[39minitial_conditions \u001b[39m=\u001b[39m \u001b[39mself\u001b[39m\u001b[39m.\u001b[39mquantify_initial_conditions()    \n\u001b[0;32m    577\u001b[0m \u001b[39mself\u001b[39m\u001b[39m.\u001b[39mdatacollector \u001b[39m=\u001b[39m mesa\u001b[39m.\u001b[39mDataCollector(\n\u001b[0;32m    578\u001b[0m     model_reporters\u001b[39m=\u001b[39m{\n\u001b[0;32m    579\u001b[0m         \u001b[39m\"\u001b[39m\u001b[39mA1_Initial_Edge_Distance\u001b[39m\u001b[39m\"\u001b[39m: \u001b[39mlambda\u001b[39;00m m: np\u001b[39m.\u001b[39mmean(m\u001b[39m.\u001b[39ma1_edge_distance),\n\u001b[0;32m    580\u001b[0m         \u001b[39m\"\u001b[39m\u001b[39mA2_Initial_Edge_Distance\u001b[39m\u001b[39m\"\u001b[39m: \u001b[39mlambda\u001b[39;00m m: np\u001b[39m.\u001b[39mmean(m\u001b[39m.\u001b[39ma2_edge_distance),\n\u001b[1;32m--> 581\u001b[0m         \u001b[39m\"\u001b[39m\u001b[39mA1_Initial_Aggressiveness\u001b[39m\u001b[39m\"\u001b[39m: \u001b[39mlambda\u001b[39;00m m: np\u001b[39m.\u001b[39mround(np\u001b[39m.\u001b[39;49mmedian(m\u001b[39m.\u001b[39;49ma1_initial_aggressiveness) \u001b[39m*\u001b[39m \u001b[39m100\u001b[39m, \u001b[39m2\u001b[39m),\n\u001b[0;32m    582\u001b[0m         \u001b[39m\"\u001b[39m\u001b[39mA2_Initial_Competition_Index\u001b[39m\u001b[39m\"\u001b[39m: \u001b[39mlambda\u001b[39;00m m: np\u001b[39m.\u001b[39mround(np\u001b[39m.\u001b[39mmedian(m\u001b[39m.\u001b[39ma2_competition_index), \u001b[39m2\u001b[39m),\n\u001b[0;32m    583\u001b[0m         \u001b[39m\"\u001b[39m\u001b[39mA1_Number\u001b[39m\u001b[39m\"\u001b[39m: [get_num_bacteria_per_type, [\u001b[39mself\u001b[39m, Type_a_1]],\n\u001b[0;32m    584\u001b[0m         \u001b[39m\"\u001b[39m\u001b[39mA2_Number\u001b[39m\u001b[39m\"\u001b[39m: [get_num_bacteria_per_type, [\u001b[39mself\u001b[39m, Type_a_2]]\n\u001b[0;32m    585\u001b[0m     }\n\u001b[0;32m    586\u001b[0m )\n",
      "File \u001b[1;32m<__array_function__ internals>:200\u001b[0m, in \u001b[0;36mmedian\u001b[1;34m(*args, **kwargs)\u001b[0m\n",
      "File \u001b[1;32mc:\\Users\\schni\\OneDrive\\Documents\\Switzerland\\Bottmedical\\.venv\\lib\\site-packages\\numpy\\lib\\function_base.py:3856\u001b[0m, in \u001b[0;36mmedian\u001b[1;34m(a, axis, out, overwrite_input, keepdims)\u001b[0m\n\u001b[0;32m   3774\u001b[0m \u001b[39m@array_function_dispatch\u001b[39m(_median_dispatcher)\n\u001b[0;32m   3775\u001b[0m \u001b[39mdef\u001b[39;00m \u001b[39mmedian\u001b[39m(a, axis\u001b[39m=\u001b[39m\u001b[39mNone\u001b[39;00m, out\u001b[39m=\u001b[39m\u001b[39mNone\u001b[39;00m, overwrite_input\u001b[39m=\u001b[39m\u001b[39mFalse\u001b[39;00m, keepdims\u001b[39m=\u001b[39m\u001b[39mFalse\u001b[39;00m):\n\u001b[0;32m   3776\u001b[0m \u001b[39m    \u001b[39m\u001b[39m\"\"\"\u001b[39;00m\n\u001b[0;32m   3777\u001b[0m \u001b[39m    Compute the median along the specified axis.\u001b[39;00m\n\u001b[0;32m   3778\u001b[0m \n\u001b[1;32m   (...)\u001b[0m\n\u001b[0;32m   3854\u001b[0m \n\u001b[0;32m   3855\u001b[0m \u001b[39m    \"\"\"\u001b[39;00m\n\u001b[1;32m-> 3856\u001b[0m     \u001b[39mreturn\u001b[39;00m _ureduce(a, func\u001b[39m=\u001b[39;49m_median, keepdims\u001b[39m=\u001b[39;49mkeepdims, axis\u001b[39m=\u001b[39;49maxis, out\u001b[39m=\u001b[39;49mout,\n\u001b[0;32m   3857\u001b[0m                     overwrite_input\u001b[39m=\u001b[39;49moverwrite_input)\n",
      "File \u001b[1;32mc:\\Users\\schni\\OneDrive\\Documents\\Switzerland\\Bottmedical\\.venv\\lib\\site-packages\\numpy\\lib\\function_base.py:3718\u001b[0m, in \u001b[0;36m_ureduce\u001b[1;34m(a, func, keepdims, **kwargs)\u001b[0m\n\u001b[0;32m   3692\u001b[0m \u001b[39mdef\u001b[39;00m \u001b[39m_ureduce\u001b[39m(a, func, keepdims\u001b[39m=\u001b[39m\u001b[39mFalse\u001b[39;00m, \u001b[39m*\u001b[39m\u001b[39m*\u001b[39mkwargs):\n\u001b[0;32m   3693\u001b[0m \u001b[39m    \u001b[39m\u001b[39m\"\"\"\u001b[39;00m\n\u001b[0;32m   3694\u001b[0m \u001b[39m    Internal Function.\u001b[39;00m\n\u001b[0;32m   3695\u001b[0m \u001b[39m    Call `func` with `a` as first argument swapping the axes to use extended\u001b[39;00m\n\u001b[1;32m   (...)\u001b[0m\n\u001b[0;32m   3716\u001b[0m \n\u001b[0;32m   3717\u001b[0m \u001b[39m    \"\"\"\u001b[39;00m\n\u001b[1;32m-> 3718\u001b[0m     a \u001b[39m=\u001b[39m np\u001b[39m.\u001b[39;49masanyarray(a)\n\u001b[0;32m   3719\u001b[0m     axis \u001b[39m=\u001b[39m kwargs\u001b[39m.\u001b[39mget(\u001b[39m'\u001b[39m\u001b[39maxis\u001b[39m\u001b[39m'\u001b[39m, \u001b[39mNone\u001b[39;00m)\n\u001b[0;32m   3720\u001b[0m     out \u001b[39m=\u001b[39m kwargs\u001b[39m.\u001b[39mget(\u001b[39m'\u001b[39m\u001b[39mout\u001b[39m\u001b[39m'\u001b[39m, \u001b[39mNone\u001b[39;00m)\n",
      "\u001b[1;31mKeyboardInterrupt\u001b[0m: "
     ]
    }
   ],
   "source": [
    "params = {\"num_type_a_1\": (10, 25, 50), \"num_type_a_2\": (10, 25, 50), \"is_torus\": False, \"grid_height\": 25, \"grid_width\": 25, \"immediate_killing\": False, \"aggressiveness\": (0.025, 0.05, 0.1, 0.25, 0.5), \"avrg_viability_time_type_a\": (30, 40, 50) }\n",
    "\n",
    "results = mesa.batch_run(\n",
    "    Microbiome,\n",
    "    parameters = params,\n",
    "    iterations = 10,\n",
    "    max_steps = 2000,\n",
    "    number_processes = 1,\n",
    "    data_collection_period = 1,\n",
    "    display_progress = True,\n",
    ")"
   ]
  },
  {
   "cell_type": "code",
   "execution_count": null,
   "metadata": {},
   "outputs": [
    {
     "name": "stdout",
     "output_type": "stream",
     "text": [
      "Index(['RunId', 'iteration', 'Step', 'num_type_a_1', 'num_type_a_2',\n",
      "       'is_torus', 'grid_height', 'grid_width', 'immediate_killing',\n",
      "       'aggressiveness', 'avrg_viability_time_type_a',\n",
      "       'A1_Initial_Edge_Distance', 'A2_Initial_Edge_Distance',\n",
      "       'A1_Initial_Aggressiveness', 'A2_Initial_Competition_Index',\n",
      "       'A1_Number', 'A2_Number'],\n",
      "      dtype='object')\n"
     ]
    }
   ],
   "source": [
    "results_df = pd.DataFrame(results)\n",
    "print(results_df.keys())"
   ]
  },
  {
   "cell_type": "code",
   "execution_count": 14,
   "metadata": {},
   "outputs": [],
   "source": [
    "batch_path = os.path.join(os.getcwd(), \"Batch_runs_convolution\")\n",
    "file_path = os.path.join(batch_path, \"Default_batch_2.csv\")\n",
    "results_df.to_csv(file_path)"
   ]
  },
  {
   "cell_type": "markdown",
   "metadata": {},
   "source": [
    "#### Self written batch run function for predator prey model"
   ]
  },
  {
   "cell_type": "code",
   "execution_count": 2,
   "metadata": {},
   "outputs": [],
   "source": [
    "def batch_run(num_type_a_1, num_type_a_2, is_torus, grid_dim, immediate_killing, aggressiveness, steps_number, iterations_per_condition):\n",
    "    # inputs have have to be lists\n",
    "\n",
    "    # Create all possible combinations of initial conditions\n",
    "    initial_conditions = itertools.product(num_type_a_1, num_type_a_2, is_torus, grid_dim, immediate_killing, aggressiveness, steps_number, iterations_per_condition)\n",
    "    \n",
    "    output = {}\n",
    "    counter = 0\n",
    "\n",
    "    for i in initial_conditions:\n",
    "\n",
    "        start_time = time.time()\n",
    "\n",
    "        # Unpack each initial consition into separate varibales\n",
    "        n_a1, n_a2, torus, grid, im_killing, aggr, steps_number, iteration = i\n",
    "\n",
    "        # Start the simulation\n",
    "        model = Microbiome(n_a1, n_a2, torus, grid, grid, immediate_killing = im_killing, aggressiveness = aggr)\n",
    "        for s in range(steps_number):\n",
    "            model.step()\n",
    "        \n",
    "        # Collect the data\n",
    "        agent_num_data = model.datacollector.get_model_vars_dataframe()\n",
    "        num_of_agents_1 = agent_num_data.loc[:,\"A1_Number\"]\n",
    "        num_of_agents_2 = agent_num_data.loc[:,\"A2_Number\"]\n",
    "\n",
    "        end_time = time.time()\n",
    "        run_time = (end_time - start_time) / 60\n",
    "\n",
    "        output[i] = [run_time, num_of_agents_1, num_of_agents_2]\n",
    "        \n",
    "        counter += 1\n",
    "        print(f\"Iteration {counter} done; run time: {run_time}.\")\n",
    "\n",
    "    # Output is a dictionary where each key is the combination of the intial conditions variables and the entry is a list containing runtime, number of predators and number of preys\n",
    "    return output"
   ]
  },
  {
   "cell_type": "code",
   "execution_count": null,
   "metadata": {},
   "outputs": [],
   "source": [
    "# Input for the batch run function\n",
    "a1 = [20]\n",
    "a2 = [20]\n",
    "torus = [False]\n",
    "grid = [25]\n",
    "i_kill = [False]\n",
    "aggress = [0.01]\n",
    "max_steps = [2500]\n",
    "iterations = 100\n",
    "\n",
    "iterations_input = list(range(1,1+iterations))\n",
    "\n",
    "# Calling the function\n",
    "results = batch_run(a1, a2, torus, grid, i_kill, aggress, max_steps, iterations_input)"
   ]
  },
  {
   "cell_type": "code",
   "execution_count": 5,
   "metadata": {},
   "outputs": [],
   "source": [
    "def create_batch_report(results_dictionary):\n",
    "\n",
    "    iterations = list(results_dictionary.keys())\n",
    "    steady_state = []\n",
    "    prey_percentage = []\n",
    "    predator_percentage = []\n",
    "\n",
    "    batch_path = os.path.join(os.getcwd(), \"Batch_runs_convolution\", f\"{iterations[-1]}\")\n",
    "    os.makedirs(batch_path)\n",
    "\n",
    "    for i in iterations:\n",
    "    \n",
    "        run_data = results[i]\n",
    "        run_time, n_predator, n_prey, time_steps = run_data[0], run_data[1], run_data[2], run_data[1].index\n",
    "\n",
    "        plt.plot(time_steps, n_predator, label = \"Predator\")\n",
    "        plt.plot(time_steps, n_prey, label = \"Prey\")\n",
    "\n",
    "    # Adding labels and title\n",
    "        plt.legend()\n",
    "        plt.xlabel('Time Step')\n",
    "        plt.ylabel('Number of Agents')\n",
    "        plt.title(f\"Initial conditions: {i}; run time: {np.round(run_time,2)} mins\")\n",
    "\n",
    "        plot_path = os.path.join(batch_path, f'{i}.jpg')\n",
    "        plt.savefig(plot_path, format='jpg')\n",
    "\n",
    "        # Displaying the plot\n",
    "        plt.show()\n",
    "\n",
    "        final_n_prey = n_prey.iloc[-1]\n",
    "        final_n_predator = n_predator.iloc[-1]\n",
    "\n",
    "        if final_n_predator > 0 and final_n_prey > 0:\n",
    "            steady_state.append(True)\n",
    "\n",
    "        else:\n",
    "            steady_state.append(False)\n",
    "\n",
    "        prey_percentage.append(np.round(final_n_prey/(final_n_predator+final_n_prey),2))\n",
    "        predator_percentage.append(np.round(final_n_predator/(final_n_predator+final_n_prey),2))\n",
    "    \n",
    "    summary = {\n",
    "        \"Steady State\" : steady_state,\n",
    "        \"Prey Percentage\" : prey_percentage,\n",
    "        \"Predator Percentage\" : predator_percentage\n",
    "    }\n",
    "    summary_df = pd.DataFrame(summary)\n",
    "    file_path = os.path.join(batch_path, \"perfomance_report.csv\")\n",
    "    summary_df.to_csv(file_path)"
   ]
  },
  {
   "cell_type": "code",
   "execution_count": null,
   "metadata": {},
   "outputs": [],
   "source": [
    "# Calling the function to display the graphs and save csv report\n",
    "create_batch_report(results)"
   ]
  },
  {
   "attachments": {},
   "cell_type": "markdown",
   "metadata": {},
   "source": [
    "### Trying new features of the model"
   ]
  },
  {
   "cell_type": "markdown",
   "metadata": {},
   "source": [
    "#### Simulate both populations"
   ]
  },
  {
   "cell_type": "code",
   "execution_count": 2,
   "metadata": {},
   "outputs": [
    {
     "ename": "ValueError",
     "evalue": "list.remove(x): x not in list",
     "output_type": "error",
     "traceback": [
      "\u001b[1;31m---------------------------------------------------------------------------\u001b[0m",
      "\u001b[1;31mValueError\u001b[0m                                Traceback (most recent call last)",
      "Cell \u001b[1;32mIn[2], line 6\u001b[0m\n\u001b[0;32m      4\u001b[0m model \u001b[39m=\u001b[39m Microbiome(\u001b[39m20\u001b[39m, \u001b[39m20\u001b[39m, \u001b[39m20\u001b[39m, \u001b[39m20\u001b[39m, \u001b[39m20\u001b[39m, \u001b[39mFalse\u001b[39;00m, \u001b[39m25\u001b[39m, \u001b[39m25\u001b[39m, immediate_killing \u001b[39m=\u001b[39m \u001b[39mFalse\u001b[39;00m, aggressiveness \u001b[39m=\u001b[39m \u001b[39m0.01\u001b[39m, avrg_viability_time_type_a \u001b[39m=\u001b[39m \u001b[39m50\u001b[39m)\n\u001b[0;32m      5\u001b[0m \u001b[39mfor\u001b[39;00m i \u001b[39min\u001b[39;00m \u001b[39mrange\u001b[39m(x):\n\u001b[1;32m----> 6\u001b[0m     model\u001b[39m.\u001b[39;49mstep()\n\u001b[0;32m      8\u001b[0m \u001b[39m# Check the numbers of agents\u001b[39;00m\n\u001b[0;32m     10\u001b[0m agent_num_data \u001b[39m=\u001b[39m model\u001b[39m.\u001b[39mdatacollector\u001b[39m.\u001b[39mget_model_vars_dataframe()\n",
      "File \u001b[1;32mc:\\Users\\schni\\OneDrive\\Documents\\Switzerland\\Bottmedical\\Model_Ilya\\BottMedical_Microbiome\\Model_Ilya_Play_Area_Convolution_Coexistence.py:1182\u001b[0m, in \u001b[0;36mMicrobiome.step\u001b[1;34m(self)\u001b[0m\n\u001b[0;32m   1180\u001b[0m \u001b[39mself\u001b[39m\u001b[39m.\u001b[39mfree_space \u001b[39m=\u001b[39m \u001b[39mself\u001b[39m\u001b[39m.\u001b[39mfind_free_space(\u001b[39mmax\u001b[39m(\u001b[39mself\u001b[39m\u001b[39m.\u001b[39mgrid_width, \u001b[39mself\u001b[39m\u001b[39m.\u001b[39mgrid_height))\n\u001b[0;32m   1181\u001b[0m \u001b[39mself\u001b[39m\u001b[39m.\u001b[39mdatacollector\u001b[39m.\u001b[39mcollect(\u001b[39mself\u001b[39m)\n\u001b[1;32m-> 1182\u001b[0m \u001b[39mself\u001b[39;49m\u001b[39m.\u001b[39;49mschedule\u001b[39m.\u001b[39;49mstep()\n",
      "File \u001b[1;32mc:\\Users\\schni\\OneDrive\\Documents\\Switzerland\\Bottmedical\\.venv\\lib\\site-packages\\mesa\\time.py:125\u001b[0m, in \u001b[0;36mRandomActivation.step\u001b[1;34m(self)\u001b[0m\n\u001b[0;32m    120\u001b[0m \u001b[39m\u001b[39m\u001b[39m\"\"\"Executes the step of all agents, one at a time, in\u001b[39;00m\n\u001b[0;32m    121\u001b[0m \u001b[39mrandom order.\u001b[39;00m\n\u001b[0;32m    122\u001b[0m \n\u001b[0;32m    123\u001b[0m \u001b[39m\"\"\"\u001b[39;00m\n\u001b[0;32m    124\u001b[0m \u001b[39mfor\u001b[39;00m agent \u001b[39min\u001b[39;00m \u001b[39mself\u001b[39m\u001b[39m.\u001b[39magent_buffer(shuffled\u001b[39m=\u001b[39m\u001b[39mTrue\u001b[39;00m):\n\u001b[1;32m--> 125\u001b[0m     agent\u001b[39m.\u001b[39;49mstep()\n\u001b[0;32m    126\u001b[0m \u001b[39mself\u001b[39m\u001b[39m.\u001b[39msteps \u001b[39m+\u001b[39m\u001b[39m=\u001b[39m \u001b[39m1\u001b[39m\n\u001b[0;32m    127\u001b[0m \u001b[39mself\u001b[39m\u001b[39m.\u001b[39mtime \u001b[39m+\u001b[39m\u001b[39m=\u001b[39m \u001b[39m1\u001b[39m\n",
      "File \u001b[1;32mc:\\Users\\schni\\OneDrive\\Documents\\Switzerland\\Bottmedical\\Model_Ilya\\BottMedical_Microbiome\\Model_Ilya_Play_Area_Convolution_Coexistence.py:861\u001b[0m, in \u001b[0;36mType_a_2_4.step\u001b[1;34m(self)\u001b[0m\n\u001b[0;32m    859\u001b[0m \u001b[39mself\u001b[39m\u001b[39m.\u001b[39meat() \n\u001b[0;32m    860\u001b[0m \u001b[39mself\u001b[39m\u001b[39m.\u001b[39mreproduce()\n\u001b[1;32m--> 861\u001b[0m \u001b[39mself\u001b[39;49m\u001b[39m.\u001b[39;49mdie()\n",
      "File \u001b[1;32mc:\\Users\\schni\\OneDrive\\Documents\\Switzerland\\Bottmedical\\Model_Ilya\\BottMedical_Microbiome\\Model_Ilya_Play_Area_Convolution_Coexistence.py:958\u001b[0m, in \u001b[0;36mType_a_2_4.die\u001b[1;34m(self)\u001b[0m\n\u001b[0;32m    953\u001b[0m    immediate_kill \u001b[39m=\u001b[39m \u001b[39mFalse\u001b[39;00m\n\u001b[0;32m    955\u001b[0m \u001b[39mif\u001b[39;00m (\u001b[39mself\u001b[39m\u001b[39m.\u001b[39marea \u001b[39m<\u001b[39m \u001b[39mself\u001b[39m\u001b[39m.\u001b[39mmin_area) \u001b[39mor\u001b[39;00m (\u001b[39mself\u001b[39m\u001b[39m.\u001b[39mviability_index \u001b[39m>\u001b[39m\u001b[39m=\u001b[39m \u001b[39mself\u001b[39m\u001b[39m.\u001b[39mmax_viability_time) \u001b[39mor\u001b[39;00m (\u001b[39mself\u001b[39m\u001b[39m.\u001b[39mrandom\u001b[39m.\u001b[39mrandom() \u001b[39m<\u001b[39m \u001b[39mself\u001b[39m\u001b[39m.\u001b[39mdying_chance) \u001b[39mor\u001b[39;00m (immediate_kill \u001b[39m==\u001b[39m \u001b[39mTrue\u001b[39;00m):\n\u001b[0;32m    956\u001b[0m    \n\u001b[0;32m    957\u001b[0m    \u001b[39m# die                \u001b[39;00m\n\u001b[1;32m--> 958\u001b[0m    \u001b[39mself\u001b[39;49m\u001b[39m.\u001b[39;49mmodel\u001b[39m.\u001b[39;49mgrid\u001b[39m.\u001b[39;49mremove_agent(\u001b[39mself\u001b[39;49m)\n\u001b[0;32m    959\u001b[0m    \u001b[39mself\u001b[39m\u001b[39m.\u001b[39mmodel\u001b[39m.\u001b[39mschedule\u001b[39m.\u001b[39mremove(\u001b[39mself\u001b[39m)\n",
      "File \u001b[1;32mc:\\Users\\schni\\OneDrive\\Documents\\Switzerland\\Bottmedical\\.venv\\lib\\site-packages\\mesa\\space.py:632\u001b[0m, in \u001b[0;36mMultiGrid.remove_agent\u001b[1;34m(self, agent)\u001b[0m\n\u001b[0;32m    630\u001b[0m pos \u001b[39m=\u001b[39m agent\u001b[39m.\u001b[39mpos\n\u001b[0;32m    631\u001b[0m x, y \u001b[39m=\u001b[39m pos\n\u001b[1;32m--> 632\u001b[0m \u001b[39mself\u001b[39;49m\u001b[39m.\u001b[39;49m_grid[x][y]\u001b[39m.\u001b[39;49mremove(agent)\n\u001b[0;32m    633\u001b[0m \u001b[39mif\u001b[39;00m \u001b[39mself\u001b[39m\u001b[39m.\u001b[39m_empties_built \u001b[39mand\u001b[39;00m \u001b[39mself\u001b[39m\u001b[39m.\u001b[39mis_cell_empty(pos):\n\u001b[0;32m    634\u001b[0m     \u001b[39mself\u001b[39m\u001b[39m.\u001b[39m_empties\u001b[39m.\u001b[39madd(pos)\n",
      "\u001b[1;31mValueError\u001b[0m: list.remove(x): x not in list"
     ]
    }
   ],
   "source": [
    "# Making x steps with in the model\n",
    "x = 100\n",
    "\n",
    "model = Microbiome(20, 20, 20, 20, 20, False, 25, 25, immediate_killing = False, aggressiveness = 0.01, avrg_viability_time_type_a = 50)\n",
    "for i in range(x):\n",
    "    model.step()\n",
    "\n",
    "# Check the numbers of agents\n",
    "\n",
    "agent_num_data = model.datacollector.get_model_vars_dataframe()\n",
    "num_of_agents_1 = agent_num_data.loc[:,\"A1_Number\"]\n",
    "num_of_agents_2 = agent_num_data.loc[:,\"A2_Number\"]\n",
    "number_of_time_steps = agent_num_data.index\n",
    "\n",
    "# Plotting the number of agents over time\n",
    "plt.plot(number_of_time_steps, num_of_agents_1, label = \"Predator\")\n",
    "plt.plot(number_of_time_steps, num_of_agents_2, label = \"Prey\")\n",
    "\n",
    "# Adding labels and title\n",
    "plt.legend()\n",
    "plt.xlabel('Time Step')\n",
    "plt.ylabel('Number of Agents')\n",
    "plt.title('Number of Agents Over Time')\n",
    "\n",
    "# Displaying the plot\n",
    "plt.show()"
   ]
  },
  {
   "cell_type": "code",
   "execution_count": 4,
   "metadata": {},
   "outputs": [
    {
     "data": {
      "text/plain": [
       "(3.5, 4.0, 0.99, 0.59)"
      ]
     },
     "execution_count": 4,
     "metadata": {},
     "output_type": "execute_result"
    }
   ],
   "source": [
    "model.output_initial_conditions()"
   ]
  },
  {
   "attachments": {},
   "cell_type": "markdown",
   "metadata": {},
   "source": [
    "#### Simulate single population"
   ]
  },
  {
   "cell_type": "code",
   "execution_count": null,
   "metadata": {},
   "outputs": [],
   "source": [
    "#Making x steps with in the model\n",
    "x = 50\n",
    "\n",
    "model = Microbiome(0,50, False, 10, 10, immediate_killing = False, aggressiveness = 0.01)\n",
    "for i in range(x):\n",
    "    model.step()\n",
    "\n",
    "# Check the numbers of agents\n",
    "\n",
    "agent_num_data = model.datacollector.get_model_vars_dataframe()\n",
    "num_of_agents = agent_num_data.loc[:,\"Type_a_2\"]\n",
    "number_of_time_steps = agent_num_data.index\n",
    "\n",
    "# Plotting the number of agents over time\n",
    "plt.plot(number_of_time_steps, num_of_agents)\n",
    "\n",
    "# Adding labels and title\n",
    "plt.xlabel('Time Step')\n",
    "plt.ylabel('Number of Agents')\n",
    "plt.title('Number of Agents Over Time')\n",
    "\n",
    "# Displaying the plot\n",
    "plt.show()"
   ]
  },
  {
   "cell_type": "code",
   "execution_count": null,
   "metadata": {},
   "outputs": [],
   "source": [
    "s_mutens_radius = 0.75 # micrometers\n",
    "average_bacteria_area = 4*math.pi*s_mutens_radius**2 \n",
    "average_bacteria_area"
   ]
  },
  {
   "cell_type": "code",
   "execution_count": null,
   "metadata": {},
   "outputs": [],
   "source": [
    "# Extract the data about mass of one of the bacteria\n",
    "my_variable_view = []\n",
    "\n",
    "my_agents = [agent for agent in model.schedule.agents if isinstance(agent, Type_a_1)]\n",
    "for agent in my_agents:\n",
    "\n",
    "    # Acess the variables of the current agent\n",
    "    my_variable_view.append(agent.area)\n",
    "\n",
    "    #print(f\"{agent.unique_id}:{my_vars}\")\n",
    "    # Print the unique ID and variable of the current agent\n",
    "    # if agent.energy_netto > 1:\n",
    "    #     print(f\"{agent.unique_id}:{agent.energy_netto}\")\n",
    "\n",
    "print(np.mean(my_variable_view),np.max(my_variable_view),np.min(my_variable_view),np.percentile(my_variable_view, 90)) \n",
    "\n",
    "# my_variable_view"
   ]
  },
  {
   "cell_type": "code",
   "execution_count": null,
   "metadata": {},
   "outputs": [],
   "source": [
    "# Unpack the list of np array floats into a list of floats\n",
    "\n",
    "float_list = []\n",
    "for array in my_variable_view:\n",
    "    if not isinstance(array, int):\n",
    "        float_list.append(array[0])\n",
    "    else:\n",
    "        float_list.append(array)\n",
    "\n",
    "my_variable_view = float_list "
   ]
  },
  {
   "cell_type": "code",
   "execution_count": null,
   "metadata": {},
   "outputs": [],
   "source": [
    "plt.hist(my_variable_view, bins=100, edgecolor='black')\n",
    "\n",
    "# Adding labels and title\n",
    "plt.xlabel('My Variable Values')\n",
    "plt.ylabel('Frequency')\n",
    "plt.title('Histogram')\n",
    "\n",
    "# Displaying the histogram\n",
    "plt.show()"
   ]
  }
 ],
 "metadata": {
  "kernelspec": {
   "display_name": ".venv",
   "language": "python",
   "name": "python3"
  },
  "language_info": {
   "codemirror_mode": {
    "name": "ipython",
    "version": 3
   },
   "file_extension": ".py",
   "mimetype": "text/x-python",
   "name": "python",
   "nbconvert_exporter": "python",
   "pygments_lexer": "ipython3",
   "version": "3.10.11"
  },
  "orig_nbformat": 4
 },
 "nbformat": 4,
 "nbformat_minor": 2
}
