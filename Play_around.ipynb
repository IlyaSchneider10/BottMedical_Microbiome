{
 "cells": [
  {
   "cell_type": "code",
   "execution_count": 3,
   "metadata": {},
   "outputs": [],
   "source": [
    "import mesa\n",
    "import numpy as np"
   ]
  },
  {
   "attachments": {},
   "cell_type": "markdown",
   "metadata": {},
   "source": [
    "### Initiate model with bacterium mass drawn from Gaussian distribution"
   ]
  },
  {
   "cell_type": "code",
   "execution_count": 5,
   "metadata": {},
   "outputs": [
    {
     "data": {
      "text/plain": [
       "array([-0.19094635, -0.11493001,  0.02185073,  0.05249194,  0.14504215])"
      ]
     },
     "execution_count": 5,
     "metadata": {},
     "output_type": "execute_result"
    }
   ],
   "source": [
    "mean = 0\n",
    "variance = 0.01\n",
    "num_samples = 5\n",
    "\n",
    "np.random.normal(loc=mean, scale=np.sqrt(variance), size=num_samples)\n",
    "\n",
    "#Find out what is the mean mass of the bacteria\n",
    "#Need to define mass as a variable for each agent\n",
    "#First introduce mass everywhere equal as the mean\n",
    "#Secondly introduce mass as a number drawn from the distribution\n",
    "#Print it somehow to validate\n",
    "\n",
    "#Adjust the divide function where after division the mass is first randomly assigned\n",
    "#Then make it split in half from the mother cell -> need to be able to generate mass -> define function growth where nutrients are converted into mass -> define split\n",
    "#Keep validating these changes"
   ]
  }
 ],
 "metadata": {
  "kernelspec": {
   "display_name": ".venv",
   "language": "python",
   "name": "python3"
  },
  "language_info": {
   "codemirror_mode": {
    "name": "ipython",
    "version": 3
   },
   "file_extension": ".py",
   "mimetype": "text/x-python",
   "name": "python",
   "nbconvert_exporter": "python",
   "pygments_lexer": "ipython3",
   "version": "3.10.11"
  },
  "orig_nbformat": 4
 },
 "nbformat": 4,
 "nbformat_minor": 2
}
