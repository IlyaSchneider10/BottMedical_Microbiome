{
 "cells": [
  {
   "cell_type": "code",
   "execution_count": 1,
   "metadata": {},
   "outputs": [],
   "source": [
    "import mesa\n",
    "import numpy as np\n",
    "\n",
    "from Model_Ilya import Microbiome, Soil, Type_a_1, Type_a_2"
   ]
  },
  {
   "attachments": {},
   "cell_type": "markdown",
   "metadata": {},
   "source": [
    "### Initiate model with bacterium mass drawn from Gaussian distribution"
   ]
  },
  {
   "cell_type": "code",
   "execution_count": 2,
   "metadata": {},
   "outputs": [
    {
     "data": {
      "text/plain": [
       "array([0.33573965, 0.30012886, 0.32147885, 0.26947212, 0.30918828])"
      ]
     },
     "execution_count": 2,
     "metadata": {},
     "output_type": "execute_result"
    }
   ],
   "source": [
    "num_samples = 5\n",
    "mean_weight = 0.28 # pg\n",
    "variation_coefficient = 0.1 # in paper it is 10 however, may be 10%\n",
    "\n",
    "def set_initial_mass(mean_weight, variation_coefficient, num_samples=1):\n",
    "\n",
    "    values = np.random.normal(mean_weight, variation_coefficient*mean_weight, num_samples)\n",
    "\n",
    "    negative_indices = np.where(values <= 0)[0]\n",
    "\n",
    "    while len(negative_indices) > 0:\n",
    "\n",
    "        new_values = np.random.normal(mean_weight, variation_coefficient*mean_weight, len(negative_indices))\n",
    "        values[negative_indices] = new_values\n",
    "        negative_indices = np.where(values <= 0)[0]\n",
    "\n",
    "    return values\n",
    "\n",
    "\n",
    "mass_sample = set_initial_mass(mean_weight, variation_coefficient, num_samples)\n",
    "\n",
    "mass_sample"
   ]
  },
  {
   "attachments": {},
   "cell_type": "markdown",
   "metadata": {},
   "source": [
    "### Trying new features of the model"
   ]
  },
  {
   "cell_type": "code",
   "execution_count": 2,
   "metadata": {},
   "outputs": [],
   "source": [
    "#Making 2 steps with in the model\n",
    "\n",
    "model = Microbiome(2, 2, True, 50, 50)\n",
    "for i in range(2):\n",
    "    model.step()\n"
   ]
  },
  {
   "cell_type": "code",
   "execution_count": 3,
   "metadata": {},
   "outputs": [
    {
     "data": {
      "text/plain": [
       "{'Type_a_1': [2, 4], 'Type_a_2': [2, 4]}"
      ]
     },
     "execution_count": 3,
     "metadata": {},
     "output_type": "execute_result"
    }
   ],
   "source": [
    "# Check the numbers of agents\n",
    "\n",
    "model.datacollector.model_vars"
   ]
  },
  {
   "cell_type": "code",
   "execution_count": 5,
   "metadata": {},
   "outputs": [
    {
     "name": "stdout",
     "output_type": "stream",
     "text": [
      "MyAgent 2504: mass=[-22.60055866]\n",
      "MyAgent 2505: mass=[-25.72317759]\n",
      "MyAgent 2506: mass=[-12.04556905]\n",
      "MyAgent 2507: mass=[-11.74426634]\n",
      "MyAgent 2511: mass=0\n",
      "MyAgent 2513: mass=0\n",
      "MyAgent 2514: mass=0\n",
      "MyAgent 2516: mass=0\n"
     ]
    }
   ],
   "source": [
    "# Extract the data about mass of one of the bacteria\n",
    "\n",
    "my_agents = [agent for agent in model.schedule.agents if isinstance(agent, Type_a_2)]\n",
    "for agent in my_agents:\n",
    "    # Access the variables of the current agent\n",
    "    my_var = agent.energy_netto\n",
    "\n",
    "    # Print the unique ID and variable of the current agent\n",
    "    print(f\"MyAgent {agent.unique_id}: mass={my_var}\")\n",
    "\n",
    "# Good advances but so far energy_netto is negative. See if adding min and max masses for death and division will help. If not see if playing with parametrs works\n",
    "# If not there is a conceptual problem"
   ]
  }
 ],
 "metadata": {
  "kernelspec": {
   "display_name": ".venv",
   "language": "python",
   "name": "python3"
  },
  "language_info": {
   "codemirror_mode": {
    "name": "ipython",
    "version": 3
   },
   "file_extension": ".py",
   "mimetype": "text/x-python",
   "name": "python",
   "nbconvert_exporter": "python",
   "pygments_lexer": "ipython3",
   "version": "3.10.11"
  },
  "orig_nbformat": 4
 },
 "nbformat": 4,
 "nbformat_minor": 2
}
