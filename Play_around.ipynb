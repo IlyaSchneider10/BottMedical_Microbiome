{
 "cells": [
  {
   "cell_type": "code",
   "execution_count": 2,
   "metadata": {},
   "outputs": [],
   "source": [
    "import mesa\n",
    "import numpy as np"
   ]
  },
  {
   "attachments": {},
   "cell_type": "markdown",
   "metadata": {},
   "source": [
    "### Initiate model with bacterium mass drawn from Gaussian distribution"
   ]
  },
  {
   "cell_type": "code",
   "execution_count": 89,
   "metadata": {},
   "outputs": [
    {
     "data": {
      "text/plain": [
       "array([0.30109169, 0.29870448, 0.33149856, 0.26831358, 0.28612372])"
      ]
     },
     "execution_count": 89,
     "metadata": {},
     "output_type": "execute_result"
    }
   ],
   "source": [
    "num_samples = 5\n",
    "mean_weight = 0.28 # pg\n",
    "variation_coefficient = 0.1 # in paper it is 10 however, may be 10%\n",
    "\n",
    "def set_initial_mass(mean_weight, variation_coefficient, num_samples):\n",
    "\n",
    "    values = np.random.normal(mean_weight, variation_coefficient*mean_weight, num_samples)\n",
    "\n",
    "    negative_indices = np.where(values <= 0)[0]\n",
    "\n",
    "    while len(negative_indices) > 0:\n",
    "\n",
    "        new_values = np.random.normal(mean_weight, variation_coefficient*mean_weight, len(negative_indices))\n",
    "        values[negative_indices] = new_values\n",
    "        negative_indices = np.where(values < 0)[0]\n",
    "\n",
    "    return values\n",
    "\n",
    "\n",
    "mass_sample = set_initial_mass(mean_weight, variation_coefficient, num_samples)\n",
    "\n",
    "mass_sample\n",
    "\n",
    "#First introduce mass everywhere equal as the mean\n",
    "#Secondly introduce mass as a number drawn from the distribution\n",
    "#Print it somehow to validate\n",
    "\n",
    "#Adjust the divide function where after division the mass is first randomly assigned\n",
    "#Then make it split in half from the mother cell -> need to be able to generate mass -> define function growth where nutrients are converted into mass -> define split\n",
    "#Keep validating these changes"
   ]
  }
 ],
 "metadata": {
  "kernelspec": {
   "display_name": ".venv",
   "language": "python",
   "name": "python3"
  },
  "language_info": {
   "codemirror_mode": {
    "name": "ipython",
    "version": 3
   },
   "file_extension": ".py",
   "mimetype": "text/x-python",
   "name": "python",
   "nbconvert_exporter": "python",
   "pygments_lexer": "ipython3",
   "version": "3.10.11"
  },
  "orig_nbformat": 4
 },
 "nbformat": 4,
 "nbformat_minor": 2
}
