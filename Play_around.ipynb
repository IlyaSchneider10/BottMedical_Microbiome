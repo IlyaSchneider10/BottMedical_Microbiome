{
 "cells": [
  {
   "cell_type": "code",
   "execution_count": 1,
   "metadata": {},
   "outputs": [],
   "source": [
    "import mesa\n",
    "import math\n",
    "import numpy as np\n",
    "import matplotlib.pyplot as plt\n",
    "\n",
    "from Model_Ilya_Play_Area import *"
   ]
  },
  {
   "attachments": {},
   "cell_type": "markdown",
   "metadata": {},
   "source": [
    "### Trying new features of the model"
   ]
  },
  {
   "attachments": {},
   "cell_type": "markdown",
   "metadata": {},
   "source": [
    "#### Simulate single population"
   ]
  },
  {
   "cell_type": "code",
   "execution_count": 2,
   "metadata": {},
   "outputs": [
    {
     "ename": "TypeError",
     "evalue": "'NoneType' object is not subscriptable",
     "output_type": "error",
     "traceback": [
      "\u001b[1;31m---------------------------------------------------------------------------\u001b[0m",
      "\u001b[1;31mTypeError\u001b[0m                                 Traceback (most recent call last)",
      "Cell \u001b[1;32mIn[2], line 6\u001b[0m\n\u001b[0;32m      4\u001b[0m model \u001b[39m=\u001b[39m Microbiome(\u001b[39m0\u001b[39m,\u001b[39m10\u001b[39m, \u001b[39mFalse\u001b[39;00m, \u001b[39m50\u001b[39m, \u001b[39m50\u001b[39m, immediate_killing \u001b[39m=\u001b[39m \u001b[39mFalse\u001b[39;00m)\n\u001b[0;32m      5\u001b[0m \u001b[39mfor\u001b[39;00m i \u001b[39min\u001b[39;00m \u001b[39mrange\u001b[39m(x):\n\u001b[1;32m----> 6\u001b[0m     model\u001b[39m.\u001b[39;49mstep()\n\u001b[0;32m      8\u001b[0m \u001b[39m# Check the numbers of agents\u001b[39;00m\n\u001b[0;32m     10\u001b[0m agent_num_data \u001b[39m=\u001b[39m model\u001b[39m.\u001b[39mdatacollector\u001b[39m.\u001b[39mget_model_vars_dataframe()\n",
      "File \u001b[1;32mc:\\Users\\schni\\OneDrive\\Documents\\Switzerland\\Bottmedical\\Model_Ilya\\BottMedical_Microbiome\\Model_Ilya_Play_Area.py:682\u001b[0m, in \u001b[0;36mMicrobiome.step\u001b[1;34m(self)\u001b[0m\n\u001b[0;32m    644\u001b[0m \u001b[39m# reset swarm target\u001b[39;00m\n\u001b[0;32m    645\u001b[0m \u001b[39m##### for idx, target in enumerate(self.swarm_target):\u001b[39;00m\n\u001b[0;32m    646\u001b[0m     \u001b[39m# self.swarm_target[idx] = get_average_pos(target)\u001b[39;00m\n\u001b[1;32m   (...)\u001b[0m\n\u001b[0;32m    679\u001b[0m \n\u001b[0;32m    680\u001b[0m \u001b[39m# run agents\u001b[39;00m\n\u001b[0;32m    681\u001b[0m \u001b[39mself\u001b[39m\u001b[39m.\u001b[39mdatacollector\u001b[39m.\u001b[39mcollect(\u001b[39mself\u001b[39m)\n\u001b[1;32m--> 682\u001b[0m \u001b[39mself\u001b[39;49m\u001b[39m.\u001b[39;49mschedule\u001b[39m.\u001b[39;49mstep()\n",
      "File \u001b[1;32mc:\\Users\\schni\\OneDrive\\Documents\\Switzerland\\Bottmedical\\.venv\\lib\\site-packages\\mesa\\time.py:125\u001b[0m, in \u001b[0;36mRandomActivation.step\u001b[1;34m(self)\u001b[0m\n\u001b[0;32m    120\u001b[0m \u001b[39m\u001b[39m\u001b[39m\"\"\"Executes the step of all agents, one at a time, in\u001b[39;00m\n\u001b[0;32m    121\u001b[0m \u001b[39mrandom order.\u001b[39;00m\n\u001b[0;32m    122\u001b[0m \n\u001b[0;32m    123\u001b[0m \u001b[39m\"\"\"\u001b[39;00m\n\u001b[0;32m    124\u001b[0m \u001b[39mfor\u001b[39;00m agent \u001b[39min\u001b[39;00m \u001b[39mself\u001b[39m\u001b[39m.\u001b[39magent_buffer(shuffled\u001b[39m=\u001b[39m\u001b[39mTrue\u001b[39;00m):\n\u001b[1;32m--> 125\u001b[0m     agent\u001b[39m.\u001b[39;49mstep()\n\u001b[0;32m    126\u001b[0m \u001b[39mself\u001b[39m\u001b[39m.\u001b[39msteps \u001b[39m+\u001b[39m\u001b[39m=\u001b[39m \u001b[39m1\u001b[39m\n\u001b[0;32m    127\u001b[0m \u001b[39mself\u001b[39m\u001b[39m.\u001b[39mtime \u001b[39m+\u001b[39m\u001b[39m=\u001b[39m \u001b[39m1\u001b[39m\n",
      "File \u001b[1;32mc:\\Users\\schni\\OneDrive\\Documents\\Switzerland\\Bottmedical\\Model_Ilya\\BottMedical_Microbiome\\Model_Ilya_Play_Area.py:387\u001b[0m, in \u001b[0;36mType_a_2.step\u001b[1;34m(self)\u001b[0m\n\u001b[0;32m    385\u001b[0m \u001b[39mif\u001b[39;00m \u001b[39mnot\u001b[39;00m \u001b[39mself\u001b[39m\u001b[39m.\u001b[39mis_eaten:\n\u001b[0;32m    386\u001b[0m     \u001b[39mself\u001b[39m\u001b[39m.\u001b[39meat() \n\u001b[1;32m--> 387\u001b[0m     \u001b[39mself\u001b[39;49m\u001b[39m.\u001b[39;49mreproduce()\n\u001b[0;32m    388\u001b[0m     \u001b[39mself\u001b[39m\u001b[39m.\u001b[39mdie()\n",
      "File \u001b[1;32mc:\\Users\\schni\\OneDrive\\Documents\\Switzerland\\Bottmedical\\Model_Ilya\\BottMedical_Microbiome\\Model_Ilya_Play_Area.py:491\u001b[0m, in \u001b[0;36mType_a_2.reproduce\u001b[1;34m(self)\u001b[0m\n\u001b[0;32m    489\u001b[0m reproduction_pos_contents \u001b[39m=\u001b[39m \u001b[39mself\u001b[39m\u001b[39m.\u001b[39mmodel\u001b[39m.\u001b[39mgrid\u001b[39m.\u001b[39mget_cell_list_contents(new_position)\n\u001b[0;32m    490\u001b[0m reproduction_pos_contents_bacteria \u001b[39m=\u001b[39m [r \u001b[39mfor\u001b[39;00m r \u001b[39min\u001b[39;00m reproduction_pos_contents \u001b[39mif\u001b[39;00m \u001b[39mnot\u001b[39;00m \u001b[39misinstance\u001b[39m(r, Soil)]\n\u001b[1;32m--> 491\u001b[0m bacteria_to_move \u001b[39m=\u001b[39m \u001b[39mself\u001b[39;49m\u001b[39m.\u001b[39;49mmodel\u001b[39m.\u001b[39;49mrandom\u001b[39m.\u001b[39;49mshuffle(reproduction_pos_contents_bacteria)[\u001b[39m0\u001b[39;49m]\n\u001b[0;32m    493\u001b[0m checked_coordinates \u001b[39m=\u001b[39m \u001b[39mself\u001b[39m\u001b[39m.\u001b[39mmodel\u001b[39m.\u001b[39mgrid\u001b[39m.\u001b[39mget_neighborhood(\u001b[39mself\u001b[39m\u001b[39m.\u001b[39mpos, moore\u001b[39m=\u001b[39m\u001b[39mTrue\u001b[39;00m, include_center \u001b[39m=\u001b[39m \u001b[39mTrue\u001b[39;00m, radius \u001b[39m=\u001b[39m \u001b[39m1\u001b[39m)\n\u001b[0;32m    494\u001b[0m overpopulation \u001b[39m=\u001b[39m \u001b[39mself\u001b[39m\u001b[39m.\u001b[39mmicrocolony_growth(bacteria_to_move, \u001b[39m1\u001b[39m, checked_coordinates)\n",
      "\u001b[1;31mTypeError\u001b[0m: 'NoneType' object is not subscriptable"
     ]
    }
   ],
   "source": [
    "#Making x steps with in the model\n",
    "x = 200\n",
    "\n",
    "model = Microbiome(0,10, False, 50, 50, immediate_killing = False)\n",
    "for i in range(x):\n",
    "    model.step()\n",
    "\n",
    "# Check the numbers of agents\n",
    "\n",
    "agent_num_data = model.datacollector.get_model_vars_dataframe()\n",
    "num_of_agents = agent_num_data.loc[:,\"Type_a_2\"]\n",
    "number_of_time_steps = agent_num_data.index\n",
    "\n",
    "# Plotting the number of agents over time\n",
    "plt.plot(number_of_time_steps, num_of_agents)\n",
    "\n",
    "# Adding labels and title\n",
    "plt.xlabel('Time Step')\n",
    "plt.ylabel('Number of Agents')\n",
    "plt.title('Number of Agents Over Time')\n",
    "\n",
    "# Displaying the plot\n",
    "plt.show()"
   ]
  },
  {
   "cell_type": "code",
   "execution_count": 10,
   "metadata": {},
   "outputs": [],
   "source": [
    "# Reproduce in its own cell\n",
    "# Look to accomodate x bacteria in neighbouring cells (start with 1)\n",
    "# Iteratively increase radius of the search\n",
    "# Keep track of the cells that have been already checked"
   ]
  },
  {
   "cell_type": "code",
   "execution_count": 5,
   "metadata": {},
   "outputs": [
    {
     "data": {
      "text/plain": [
       "0"
      ]
     },
     "execution_count": 5,
     "metadata": {},
     "output_type": "execute_result"
    }
   ],
   "source": [
    "pos_contents = model.grid.get_cell_list_contents((25,25))\n",
    "pos_contents_bacteria = [c for c in pos_contents if not isinstance(c, Soil)]\n",
    "num_bacteria = len(pos_contents_bacteria)\n",
    "num_bacteria"
   ]
  },
  {
   "attachments": {},
   "cell_type": "markdown",
   "metadata": {},
   "source": [
    "#### Simulate both populations"
   ]
  },
  {
   "cell_type": "code",
   "execution_count": null,
   "metadata": {},
   "outputs": [],
   "source": [
    "#Making x steps with in the model\n",
    "x = 400\n",
    "\n",
    "model = Microbiome(15, 50, False, 50, 50, immediate_killing = False)\n",
    "for i in range(x):\n",
    "    model.step()\n",
    "\n",
    "# Check the numbers of agents\n",
    "\n",
    "agent_num_data = model.datacollector.get_model_vars_dataframe()\n",
    "num_of_agents_1 = agent_num_data.loc[:,\"Type_a_1\"]\n",
    "num_of_agents_2 = agent_num_data.loc[:,\"Type_a_2\"]\n",
    "number_of_time_steps = agent_num_data.index\n",
    "\n",
    "# Plotting the number of agents over time\n",
    "plt.plot(number_of_time_steps, num_of_agents_1, label = \"Predator\")\n",
    "plt.plot(number_of_time_steps, num_of_agents_2, label = \"Prey\")\n",
    "\n",
    "# Adding labels and title\n",
    "plt.legend()\n",
    "plt.xlabel('Time Step')\n",
    "plt.ylabel('Number of Agents')\n",
    "plt.title('Number of Agents Over Time')\n",
    "\n",
    "# Displaying the plot\n",
    "plt.show()"
   ]
  },
  {
   "cell_type": "code",
   "execution_count": null,
   "metadata": {},
   "outputs": [],
   "source": [
    "s_mutens_radius = 0.75 # micrometers\n",
    "average_bacteria_area = 4*math.pi*s_mutens_radius**2 "
   ]
  },
  {
   "cell_type": "code",
   "execution_count": null,
   "metadata": {},
   "outputs": [],
   "source": [
    "# Extract the data about mass of one of the bacteria\n",
    "my_variable_view = []\n",
    "\n",
    "my_agents = [agent for agent in model.schedule.agents if isinstance(agent, Type_a_1)]\n",
    "for agent in my_agents:\n",
    "\n",
    "    my_vars = []\n",
    "     \n",
    "    # Acess the variables of the current agent\n",
    "    my_variable_view.append(agent.area)\n",
    "    # my_vars.append(agent.split_mass)\n",
    "    # my_vars.append(agent.min_mass)\n",
    "    #my_vars.append(agent.energy_netto)\n",
    "    # my_vars.append(agent.max_viability_time)\n",
    "    # my_vars.append(agent.viability_index)\n",
    "\n",
    "    #my_variable_view.append(float(agent.energy_netto))\n",
    "\n",
    "    #print(f\"{agent.unique_id}:{my_vars}\")\n",
    "    # Print the unique ID and variable of the current agent\n",
    "    # if agent.energy_netto > 1:\n",
    "    #     print(f\"{agent.unique_id}:{agent.energy_netto}\")\n",
    "\n",
    "# np.mean(my_variable_view)\n",
    "# np.percentile(my_vars, 75)\n",
    "my_variable_view\n"
   ]
  },
  {
   "cell_type": "code",
   "execution_count": null,
   "metadata": {},
   "outputs": [],
   "source": [
    "# Unpack the list of np array floats into a list of floats\n",
    "\n",
    "float_list = []\n",
    "for array in my_variable_view:\n",
    "    if not isinstance(array, int):\n",
    "        float_list.append(array[0])\n",
    "    else:\n",
    "        float_list.append(array)\n",
    "\n",
    "my_variable_view = float_list "
   ]
  },
  {
   "cell_type": "code",
   "execution_count": null,
   "metadata": {},
   "outputs": [],
   "source": [
    "plt.hist(my_variable_view, bins=100, edgecolor='black')\n",
    "\n",
    "# Adding labels and title\n",
    "plt.xlabel('My Variable Values')\n",
    "plt.ylabel('Frequency')\n",
    "plt.title('Histogram')\n",
    "\n",
    "# Displaying the histogram\n",
    "plt.show()"
   ]
  }
 ],
 "metadata": {
  "kernelspec": {
   "display_name": ".venv",
   "language": "python",
   "name": "python3"
  },
  "language_info": {
   "codemirror_mode": {
    "name": "ipython",
    "version": 3
   },
   "file_extension": ".py",
   "mimetype": "text/x-python",
   "name": "python",
   "nbconvert_exporter": "python",
   "pygments_lexer": "ipython3",
   "version": "3.10.11"
  },
  "orig_nbformat": 4
 },
 "nbformat": 4,
 "nbformat_minor": 2
}
