{
 "cells": [
  {
   "cell_type": "code",
   "execution_count": 1,
   "metadata": {},
   "outputs": [],
   "source": [
    "import mesa\n",
    "import numpy as np\n",
    "\n",
    "from Model_Ilya import Microbiome, Soil, Type_a_1, Type_a_2"
   ]
  },
  {
   "attachments": {},
   "cell_type": "markdown",
   "metadata": {},
   "source": [
    "### Initiate model with bacterium mass drawn from Gaussian distribution"
   ]
  },
  {
   "cell_type": "code",
   "execution_count": 2,
   "metadata": {},
   "outputs": [
    {
     "data": {
      "text/plain": [
       "array([0.28516845, 0.27845692, 0.30760758, 0.27697959, 0.27472269])"
      ]
     },
     "execution_count": 2,
     "metadata": {},
     "output_type": "execute_result"
    }
   ],
   "source": [
    "num_samples = 5\n",
    "mean_weight = 0.28 # pg\n",
    "variation_coefficient = 0.1 # in paper it is 10 however, may be 10%\n",
    "\n",
    "def set_initial_mass(mean_weight, variation_coefficient, num_samples=1):\n",
    "\n",
    "    values = np.random.normal(mean_weight, variation_coefficient*mean_weight, num_samples)\n",
    "\n",
    "    negative_indices = np.where(values <= 0)[0]\n",
    "\n",
    "    while len(negative_indices) > 0:\n",
    "\n",
    "        new_values = np.random.normal(mean_weight, variation_coefficient*mean_weight, len(negative_indices))\n",
    "        values[negative_indices] = new_values\n",
    "        negative_indices = np.where(values <= 0)[0]\n",
    "\n",
    "    return values\n",
    "\n",
    "\n",
    "mass_sample = set_initial_mass(mean_weight, variation_coefficient, num_samples)\n",
    "\n",
    "mass_sample\n",
    "\n",
    "#Adjust the divide function where after division the mass is first randomly assigned\n",
    "#Then make it split in half from the mother cell -> need to be able to generate mass -> define function growth where nutrients are converted into mass -> define split\n",
    "#Keep validating these changes"
   ]
  },
  {
   "attachments": {},
   "cell_type": "markdown",
   "metadata": {},
   "source": [
    "### Trying new features of the model"
   ]
  },
  {
   "cell_type": "code",
   "execution_count": 3,
   "metadata": {},
   "outputs": [],
   "source": [
    "#Making 2 steps with in the model\n",
    "\n",
    "model = Microbiome(10, 10, True, 50, 50)\n",
    "for i in range(2):\n",
    "    model.step()\n"
   ]
  },
  {
   "cell_type": "code",
   "execution_count": 4,
   "metadata": {},
   "outputs": [
    {
     "data": {
      "text/plain": [
       "{'Type_a_1': [10, 20], 'Type_a_2': [10, 20]}"
      ]
     },
     "execution_count": 4,
     "metadata": {},
     "output_type": "execute_result"
    }
   ],
   "source": [
    "# Check the numbers of agents\n",
    "\n",
    "model.datacollector.model_vars"
   ]
  },
  {
   "cell_type": "code",
   "execution_count": 9,
   "metadata": {},
   "outputs": [
    {
     "name": "stdout",
     "output_type": "stream",
     "text": [
      "MyAgent 2512: mass=[0.29545318]\n",
      "MyAgent 2513: mass=[0.27575021]\n",
      "MyAgent 2514: mass=[0.30769183]\n",
      "MyAgent 2515: mass=[0.28309994]\n",
      "MyAgent 2516: mass=[0.29412281]\n",
      "MyAgent 2517: mass=[0.34571842]\n",
      "MyAgent 2518: mass=[0.25850028]\n",
      "MyAgent 2519: mass=[0.22032649]\n",
      "MyAgent 2520: mass=[0.31651329]\n",
      "MyAgent 2521: mass=[0.28700324]\n",
      "MyAgent 2523: mass=[0.2728938]\n",
      "MyAgent 2524: mass=[0.28480145]\n",
      "MyAgent 2526: mass=[0.27681028]\n",
      "MyAgent 2528: mass=[0.24701868]\n",
      "MyAgent 2531: mass=[0.25825716]\n",
      "MyAgent 2533: mass=[0.21984311]\n",
      "MyAgent 2534: mass=[0.30745565]\n",
      "MyAgent 2536: mass=[0.24695003]\n",
      "MyAgent 2539: mass=[0.30007568]\n",
      "MyAgent 2540: mass=[0.2741424]\n",
      "MyAgent 2543: mass=[0.29634067]\n",
      "MyAgent 2545: mass=[0.27282693]\n",
      "MyAgent 2546: mass=[0.26873911]\n",
      "MyAgent 2547: mass=[0.30194507]\n",
      "MyAgent 2548: mass=[0.25232377]\n",
      "MyAgent 2550: mass=[0.29679414]\n",
      "MyAgent 2552: mass=[0.28690273]\n",
      "MyAgent 2555: mass=[0.26909021]\n",
      "MyAgent 2556: mass=[0.30286242]\n",
      "MyAgent 2558: mass=[0.21638098]\n",
      "MyAgent 2560: mass=[0.27358996]\n",
      "MyAgent 2563: mass=[0.27714959]\n",
      "MyAgent 2564: mass=[0.29016873]\n",
      "MyAgent 2566: mass=[0.25215926]\n",
      "MyAgent 2570: mass=[0.3058132]\n",
      "MyAgent 2571: mass=[0.30900213]\n",
      "MyAgent 2572: mass=[0.26077622]\n",
      "MyAgent 2574: mass=[0.27758557]\n"
     ]
    }
   ],
   "source": [
    "# Extract the data about mass of one of the bacteria\n",
    "\n",
    "my_agents = [agent for agent in model.schedule.agents if isinstance(agent, Type_a_2)]\n",
    "for agent in my_agents:\n",
    "    # Access the variables of the current agent\n",
    "    my_var = agent.mass\n",
    "\n",
    "    # Print the unique ID and variable of the current agent\n",
    "    print(f\"MyAgent {agent.unique_id}: mass={my_var}\")"
   ]
  }
 ],
 "metadata": {
  "kernelspec": {
   "display_name": ".venv",
   "language": "python",
   "name": "python3"
  },
  "language_info": {
   "codemirror_mode": {
    "name": "ipython",
    "version": 3
   },
   "file_extension": ".py",
   "mimetype": "text/x-python",
   "name": "python",
   "nbconvert_exporter": "python",
   "pygments_lexer": "ipython3",
   "version": "3.10.11"
  },
  "orig_nbformat": 4
 },
 "nbformat": 4,
 "nbformat_minor": 2
}
