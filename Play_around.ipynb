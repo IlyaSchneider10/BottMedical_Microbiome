{
 "cells": [
  {
   "cell_type": "code",
   "execution_count": 1,
   "metadata": {},
   "outputs": [],
   "source": [
    "import mesa\n",
    "import math\n",
    "import numpy as np\n",
    "import pandas as pd\n",
    "import matplotlib.pyplot as plt\n",
    "import itertools\n",
    "import time\n",
    "import os\n",
    "\n",
    "from Model_Ilya_Play_Area_Convolution import *"
   ]
  },
  {
   "cell_type": "markdown",
   "metadata": {},
   "source": [
    "### Batch Simulations"
   ]
  },
  {
   "cell_type": "markdown",
   "metadata": {},
   "source": [
    "#### Self written batch run function for predator prey model"
   ]
  },
  {
   "cell_type": "code",
   "execution_count": 2,
   "metadata": {},
   "outputs": [],
   "source": [
    "def batch_run(num_type_a_1, num_type_a_2, is_torus, grid_dim, immediate_killing, aggressiveness, steps_number, iterations_per_condition):\n",
    "    # inputs have have to be lists\n",
    "\n",
    "    # Create all possible combinations of initial conditions\n",
    "    initial_conditions = itertools.product(num_type_a_1, num_type_a_2, is_torus, grid_dim, immediate_killing, aggressiveness, steps_number, iterations_per_condition)\n",
    "    \n",
    "    output = {}\n",
    "    counter = 0\n",
    "\n",
    "    for i in initial_conditions:\n",
    "\n",
    "        start_time = time.time()\n",
    "\n",
    "        # Unpack each initial consition into separate varibales\n",
    "        n_a1, n_a2, torus, grid, im_killing, aggr, steps_number, iteration = i\n",
    "\n",
    "        # Start the simulation\n",
    "        model = Microbiome(n_a1, n_a2, torus, grid, grid, immediate_killing = im_killing, aggressiveness = aggr)\n",
    "        for s in range(steps_number):\n",
    "            model.step()\n",
    "        \n",
    "        # Collect the data\n",
    "        agent_num_data = model.datacollector.get_model_vars_dataframe()\n",
    "        num_of_agents_1 = agent_num_data.loc[:,\"Type_a_1\"]\n",
    "        num_of_agents_2 = agent_num_data.loc[:,\"Type_a_2\"]\n",
    "\n",
    "        end_time = time.time()\n",
    "        run_time = (end_time - start_time) / 60\n",
    "\n",
    "        output[i] = [run_time, num_of_agents_1, num_of_agents_2]\n",
    "        \n",
    "        counter += 1\n",
    "        print(f\"Iteration {counter} done; run time: {run_time}.\")\n",
    "\n",
    "    # Output is a dictionary where each key is the combination of the intial conditions variables and the entry is a list containing runtime, number of predators and number of preys\n",
    "    return output"
   ]
  },
  {
   "cell_type": "code",
   "execution_count": 3,
   "metadata": {},
   "outputs": [
    {
     "name": "stdout",
     "output_type": "stream",
     "text": [
      "Iteration 1 done; run time: 42.86835451126099.\n",
      "Iteration 2 done; run time: 50.972995833555856.\n",
      "Iteration 3 done; run time: 35.51118093729019.\n",
      "Iteration 4 done; run time: 31.61832755804062.\n",
      "Iteration 5 done; run time: 42.46391649246216.\n",
      "Iteration 6 done; run time: 43.329130776723225.\n",
      "Iteration 7 done; run time: 41.50300402641297.\n",
      "Iteration 8 done; run time: 42.486385548114775.\n",
      "Iteration 9 done; run time: 41.1221181511879.\n",
      "Iteration 10 done; run time: 39.880046705404915.\n",
      "Iteration 11 done; run time: 41.557442196210225.\n",
      "Iteration 12 done; run time: 41.950048915545146.\n",
      "Iteration 13 done; run time: 43.33420710961024.\n",
      "Iteration 14 done; run time: 56.566655206680295.\n",
      "Iteration 15 done; run time: 49.56242272059123.\n",
      "Iteration 16 done; run time: 42.62944880326589.\n",
      "Iteration 17 done; run time: 37.183256502946215.\n",
      "Iteration 18 done; run time: 35.052815878391264.\n",
      "Iteration 19 done; run time: 36.92011821269989.\n",
      "Iteration 20 done; run time: 35.6270650267601.\n",
      "Iteration 21 done; run time: 35.665631453196205.\n",
      "Iteration 22 done; run time: 35.92123828728994.\n",
      "Iteration 23 done; run time: 34.66442366838455.\n",
      "Iteration 24 done; run time: 35.39936956167221.\n",
      "Iteration 25 done; run time: 35.33532327016194.\n",
      "Iteration 26 done; run time: 36.31550823847453.\n",
      "Iteration 27 done; run time: 33.905141254266105.\n",
      "Iteration 28 done; run time: 34.42438751459122.\n",
      "Iteration 29 done; run time: 34.38303384383519.\n",
      "Iteration 30 done; run time: 46.41283632516861.\n"
     ]
    }
   ],
   "source": [
    "# Input for the batch run function\n",
    "a1 = [5]\n",
    "a2 = [35]\n",
    "torus = [False]\n",
    "grid = [25]\n",
    "i_kill = [False]\n",
    "aggress = [0.01]\n",
    "max_steps = [750]\n",
    "iterations = 30\n",
    "\n",
    "iterations_input = list(range(1,1+iterations))\n",
    "\n",
    "# Calling the function\n",
    "results = batch_run(a1, a2, torus, grid, i_kill, aggress, max_steps, iterations_input)"
   ]
  },
  {
   "cell_type": "code",
   "execution_count": 6,
   "metadata": {},
   "outputs": [],
   "source": [
    "def create_batch_report(results_dictionary):\n",
    "\n",
    "    iterations = list(results_dictionary.keys())\n",
    "    steady_state = []\n",
    "    dominator = []\n",
    "\n",
    "    for i in iterations:\n",
    "    \n",
    "        run_data = results[i]\n",
    "        run_time, n_predator, n_prey, time_steps = run_data[0], run_data[1], run_data[2], run_data[1].index\n",
    "\n",
    "        plt.plot(time_steps, n_predator, label = \"Predator\")\n",
    "        plt.plot(time_steps, n_prey, label = \"Prey\")\n",
    "\n",
    "    # Adding labels and title\n",
    "        plt.legend()\n",
    "        plt.xlabel('Time Step')\n",
    "        plt.ylabel('Number of Agents')\n",
    "        plt.title(f\"Initial conditions: {i}; run time: {np.round(run_time)} mins\")\n",
    "\n",
    "        # Displaying the plot\n",
    "        plt.show()\n",
    "\n",
    "        if n_predator.iloc[-1] > 0 and n_prey.iloc[-1] > 0:\n",
    "            steady_state.append(True)\n",
    "            dominator.append(None)\n",
    "\n",
    "        else:\n",
    "            steady_state.append(False)\n",
    "\n",
    "            if n_predator.iloc[-1] > 0:\n",
    "                dominator.append(\"Predator\")\n",
    "            \n",
    "            else:\n",
    "                dominator.append(\"Prey\")\n",
    "    \n",
    "    summary = {\n",
    "        \"Steady State\" : steady_state,\n",
    "        \"Dominator\" : dominator\n",
    "    }\n",
    "    summary_df = pd.DataFrame(summary)\n",
    "    file_path = os.path.join(os.getcwd(), \"Batch_runs\", f\"{iterations[0]}.csv\")\n",
    "    summary_df.to_csv(file_path)"
   ]
  },
  {
   "cell_type": "code",
   "execution_count": null,
   "metadata": {},
   "outputs": [],
   "source": [
    "# Calling the function to display the graphs and save csv report\n",
    "create_batch_report(results)"
   ]
  },
  {
   "attachments": {},
   "cell_type": "markdown",
   "metadata": {},
   "source": [
    "### Trying new features of the model"
   ]
  },
  {
   "cell_type": "markdown",
   "metadata": {},
   "source": [
    "#### Simulate both populations"
   ]
  },
  {
   "cell_type": "code",
   "execution_count": 3,
   "metadata": {},
   "outputs": [],
   "source": [
    "#Making x steps with in the model\n",
    "x = 1000\n",
    "\n",
    "model = Microbiome(5, 30, False, 25, 25, immediate_killing = False, aggressiveness = 0.01)\n",
    "for i in range(x):\n",
    "    model.step()\n",
    "\n",
    "# Check the numbers of agents\n",
    "\n",
    "agent_num_data = model.datacollector.get_model_vars_dataframe()\n",
    "num_of_agents_1 = agent_num_data.loc[:,\"Type_a_1\"]\n",
    "num_of_agents_2 = agent_num_data.loc[:,\"Type_a_2\"]\n",
    "number_of_time_steps = agent_num_data.index\n",
    "\n",
    "# Plotting the number of agents over time\n",
    "plt.plot(number_of_time_steps, num_of_agents_1, label = \"Predator\")\n",
    "plt.plot(number_of_time_steps, num_of_agents_2, label = \"Prey\")\n",
    "\n",
    "# Adding labels and title\n",
    "plt.legend()\n",
    "plt.xlabel('Time Step')\n",
    "plt.ylabel('Number of Agents')\n",
    "plt.title('Number of Agents Over Time')\n",
    "\n",
    "# Displaying the plot\n",
    "plt.show()"
   ]
  },
  {
   "cell_type": "code",
   "execution_count": 12,
   "metadata": {},
   "outputs": [
    {
     "data": {
      "text/plain": [
       "625"
      ]
     },
     "execution_count": 12,
     "metadata": {},
     "output_type": "execute_result"
    }
   ],
   "source": [
    "len(model.grid.get_neighborhood((0,0), True, True, 27))"
   ]
  },
  {
   "attachments": {},
   "cell_type": "markdown",
   "metadata": {},
   "source": [
    "#### Simulate single population"
   ]
  },
  {
   "cell_type": "code",
   "execution_count": 3,
   "metadata": {},
   "outputs": [
    {
     "data": {
      "image/png": "[encoded data removed]",
      "text/plain": [
       "<Figure size 640x480 with 1 Axes>"
      ]
     },
     "metadata": {},
     "output_type": "display_data"
    }
   ],
   "source": [
    "#Making x steps with in the model\n",
    "x = 100\n",
    "\n",
    "model = Microbiome(0,50, False, 10, 10, immediate_killing = False, aggressiveness = 0.01)\n",
    "for i in range(x):\n",
    "    model.step()\n",
    "\n",
    "# Check the numbers of agents\n",
    "\n",
    "agent_num_data = model.datacollector.get_model_vars_dataframe()\n",
    "num_of_agents = agent_num_data.loc[:,\"Type_a_2\"]\n",
    "number_of_time_steps = agent_num_data.index\n",
    "\n",
    "# Plotting the number of agents over time\n",
    "plt.plot(number_of_time_steps, num_of_agents)\n",
    "\n",
    "# Adding labels and title\n",
    "plt.xlabel('Time Step')\n",
    "plt.ylabel('Number of Agents')\n",
    "plt.title('Number of Agents Over Time')\n",
    "\n",
    "# Displaying the plot\n",
    "plt.show()"
   ]
  },
  {
   "cell_type": "code",
   "execution_count": 10,
   "metadata": {},
   "outputs": [],
   "source": [
    "# interseting trend that increase in max colony radius does not necesarrily increase the simulation runtime\n",
    "# TO DO:\n",
    "# DONE 1. Check the variables of the bacteria for artefacts, single type \n",
    "# DONE 2. Run the simulation in the browser, single type\n",
    "# DONE 3. Compare spread with one starting bacteria with and without the recursive function, both starting points somewhere in the middle, 50 x 50 grid\n",
    "### Recursive: 313 steps, non recursive: ~ 1k steps\n",
    "# DONE 4. Adapt Type 1 accordingly\n",
    "# DONE 5. Run the simulation in the browser, both types\n",
    "### Issue (solved): Predator expands randomly in two microcolonies of Prey \n",
    "\n",
    "### Issue: The max number of bacteria per simulation coordinate is exceeded in some cases\n",
    "### Issue: Smulation is too slow once the entire grid is full\n",
    "### Idea: introduce a feature that modifies microcolony growth when the max cell count is reached\n",
    "# DONE 6. Review secretion of antibiotica and the stress reaction\n",
    "# 7. Do final artifact checking\n"
   ]
  },
  {
   "cell_type": "code",
   "execution_count": 7,
   "metadata": {},
   "outputs": [
    {
     "data": {
      "text/plain": [
       "7.0685834705770345"
      ]
     },
     "execution_count": 7,
     "metadata": {},
     "output_type": "execute_result"
    }
   ],
   "source": [
    "s_mutens_radius = 0.75 # micrometers\n",
    "average_bacteria_area = 4*math.pi*s_mutens_radius**2 \n",
    "average_bacteria_area"
   ]
  },
  {
   "cell_type": "code",
   "execution_count": 9,
   "metadata": {},
   "outputs": [
    {
     "name": "stdout",
     "output_type": "stream",
     "text": [
      "11.045083643363334 45.077061945600384 2.1190900642305426 26.562989268387852\n"
     ]
    }
   ],
   "source": [
    "# Extract the data about mass of one of the bacteria\n",
    "my_variable_view = []\n",
    "\n",
    "my_agents = [agent for agent in model.schedule.agents if isinstance(agent, Type_a_2)]\n",
    "for agent in my_agents:\n",
    "\n",
    "    # Acess the variables of the current agent\n",
    "    my_variable_view.append(agent.area)\n",
    "\n",
    "    #print(f\"{agent.unique_id}:{my_vars}\")\n",
    "    # Print the unique ID and variable of the current agent\n",
    "    # if agent.energy_netto > 1:\n",
    "    #     print(f\"{agent.unique_id}:{agent.energy_netto}\")\n",
    "\n",
    "print(np.mean(my_variable_view),np.max(my_variable_view),np.min(my_variable_view),np.percentile(my_variable_view, 99)) \n",
    "\n",
    "# my_variable_view"
   ]
  },
  {
   "cell_type": "code",
   "execution_count": 28,
   "metadata": {},
   "outputs": [],
   "source": [
    "# Unpack the list of np array floats into a list of floats\n",
    "\n",
    "float_list = []\n",
    "for array in my_variable_view:\n",
    "    if not isinstance(array, int):\n",
    "        float_list.append(array[0])\n",
    "    else:\n",
    "        float_list.append(array)\n",
    "\n",
    "my_variable_view = float_list "
   ]
  },
  {
   "cell_type": "code",
   "execution_count": 29,
   "metadata": {},
   "outputs": [
    {
     "data": {
      "image/png": "[encoded data removed]",
      "text/plain": [
       "<Figure size 640x480 with 1 Axes>"
      ]
     },
     "metadata": {},
     "output_type": "display_data"
    }
   ],
   "source": [
    "plt.hist(my_variable_view, bins=100, edgecolor='black')\n",
    "\n",
    "# Adding labels and title\n",
    "plt.xlabel('My Variable Values')\n",
    "plt.ylabel('Frequency')\n",
    "plt.title('Histogram')\n",
    "\n",
    "# Displaying the histogram\n",
    "plt.show()"
   ]
  }
 ],
 "metadata": {
  "kernelspec": {
   "display_name": ".venv",
   "language": "python",
   "name": "python3"
  },
  "language_info": {
   "codemirror_mode": {
    "name": "ipython",
    "version": 3
   },
   "file_extension": ".py",
   "mimetype": "text/x-python",
   "name": "python",
   "nbconvert_exporter": "python",
   "pygments_lexer": "ipython3",
   "version": "3.10.11"
  },
  "orig_nbformat": 4
 },
 "nbformat": 4,
 "nbformat_minor": 2
}
