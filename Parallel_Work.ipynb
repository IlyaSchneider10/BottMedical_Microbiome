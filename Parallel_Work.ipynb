{
 "cells": [
  {
   "cell_type": "code",
   "execution_count": 1,
   "metadata": {},
   "outputs": [],
   "source": [
    "import mesa\n",
    "import math\n",
    "import numpy as np\n",
    "import matplotlib.pyplot as plt\n",
    "from collections import Counter\n",
    "\n",
    "from Model_Ilya_Play_Area import *"
   ]
  },
  {
   "cell_type": "code",
   "execution_count": null,
   "metadata": {},
   "outputs": [],
   "source": [
    "#Making x steps with in the model\n",
    "x = 10\n",
    "\n",
    "model = Microbiome(5, 30, False, 25, 25, immediate_killing = False)\n",
    "for i in range(x):\n",
    "    model.step()\n",
    "\n",
    "# Check the numbers of agents\n",
    "\n",
    "agent_num_data = model.datacollector.get_model_vars_dataframe()\n",
    "num_of_agents_1 = agent_num_data.loc[:,\"Type_a_1\"]\n",
    "num_of_agents_2 = agent_num_data.loc[:,\"Type_a_2\"]\n",
    "number_of_time_steps = agent_num_data.index\n",
    "\n",
    "# Plotting the number of agents over time\n",
    "plt.plot(number_of_time_steps, num_of_agents_1, label = \"Predator\")\n",
    "plt.plot(number_of_time_steps, num_of_agents_2, label = \"Prey\")\n",
    "\n",
    "# Adding labels and title\n",
    "plt.legend()\n",
    "plt.xlabel('Time Step')\n",
    "plt.ylabel('Number of Agents')\n",
    "plt.title('Number of Agents Over Time')\n",
    "\n",
    "# Displaying the plot\n",
    "plt.show()"
   ]
  },
  {
   "cell_type": "code",
   "execution_count": 27,
   "metadata": {},
   "outputs": [
    {
     "data": {
      "text/plain": [
       "[]"
      ]
     },
     "execution_count": 27,
     "metadata": {},
     "output_type": "execute_result"
    }
   ],
   "source": [
    "c=model.grid.get_neighborhood((10,10), moore = True, include_center = True, radius = 1)\n",
    "a = model.grid.get_cell_list_contents([(10,10),(20,20)])\n",
    "\n"
   ]
  },
  {
   "cell_type": "code",
   "execution_count": null,
   "metadata": {},
   "outputs": [],
   "source": [
    "# Initial conditions: 3 predators, 30 preys, 1% aggressiveness\n",
    "\n",
    "# Run time with radius increment 1 and microcolony function based on coordinates:\n",
    "\n",
    "    # 200 steps:\n",
    "\n",
    "        # 3.10\n",
    "        # 3.03\n",
    "        # 2.51\n",
    "        # 2.33\n",
    "\n",
    "    # 300 steps:\n",
    "\n",
    "        # 9.23\n",
    "        # 7.32\n",
    "        # 11.59\n",
    "\n",
    "# Run time with radius increment 1 and microcolony function based on agents:\n",
    "    \n",
    "    # 200 steps:\n",
    "\n",
    "        #  > 7 mins\n",
    "\n",
    "# Run time with radius increment 5 and microcolony function based on coordinates:\n",
    "    \n",
    "    # 200 steps:\n",
    "\n",
    "        # 1.49\n",
    "        # 1.17\n",
    "        # 2.47\n",
    "\n",
    "    # 300 steps:\n",
    "\n",
    "        # 11.07\n",
    "        #\n",
    "        #"
   ]
  },
  {
   "cell_type": "code",
   "execution_count": null,
   "metadata": {},
   "outputs": [],
   "source": [
    "# Agent based microcolony growth did not turn out to be faster:\n",
    "# Still come back to it, because it might be slower in the initial stage of the simulation but faster once the grid is full\n",
    "\n",
    "def microcolony_growth(self, bacteria_to_move, starting_radius, checked_neighbors_bacteria, max_search_radius):\n",
    "       \n",
    "        if starting_radius > max_search_radius:\n",
    "            return True\n",
    "        \n",
    "        increased_neighbors = self.model.grid.get_neighbors(bacteria_to_move.pos, moore = True, include_center = True, radius = starting_radius + 1)\n",
    "        increased_neighbors_bacteria = [i for i in increased_neighbors if not isinstance(i, Soil)]\n",
    "        unchecked_neighbors_bacteria = list(set(increased_neighbors_bacteria) - set(checked_neighbors_bacteria))\n",
    "\n",
    "        bacteria_coordinates = list(map(lambda bacteria: bacteria.pos, unchecked_neighbors_bacteria))\n",
    "        bacteria_coordinates_freq = Counter(bacteria_coordinates)\n",
    "\n",
    "        for value, count in bacteria_coordinates_freq.items():\n",
    "            \n",
    "            if count < self.max_num_bacteria_in_cell:\n",
    "                 \n",
    "                expansion_neighbours_contents = self.model.grid.get_neighbors(value, moore =  True, include_center = True, radius = 1)\n",
    "                own_type = [e for e in expansion_neighbours_contents if isinstance(e, Type_a_2)]\n",
    "\n",
    "                if len(own_type) > 0:\n",
    "\n",
    "                    self.model.grid.move_agent(bacteria_to_move, value)\n",
    "                    return False\n",
    "                \n",
    "        return self.microcolony_growth(bacteria_to_move, starting_radius + 1, increased_neighbors_bacteria, max_search_radius)"
   ]
  }
 ],
 "metadata": {
  "kernelspec": {
   "display_name": ".venv",
   "language": "python",
   "name": "python3"
  },
  "language_info": {
   "codemirror_mode": {
    "name": "ipython",
    "version": 3
   },
   "file_extension": ".py",
   "mimetype": "text/x-python",
   "name": "python",
   "nbconvert_exporter": "python",
   "pygments_lexer": "ipython3",
   "version": "3.10.11"
  },
  "orig_nbformat": 4
 },
 "nbformat": 4,
 "nbformat_minor": 2
}
